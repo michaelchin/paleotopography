{
 "cells": [
  {
   "cell_type": "code",
   "execution_count": 7,
   "metadata": {},
   "outputs": [
    {
     "name": "stdout",
     "output_type": "stream",
     "text": [
      "The autoreload extension is already loaded. To reload it, use:\n",
      "  %reload_ext autoreload\n"
     ]
    }
   ],
   "source": [
    "import pygplates\n",
    "import numpy as np  \n",
    "import matplotlib.pyplot as plt\n",
    "import pandas as pd\n",
    "\n",
    "import sys\n",
    "sys.path.append('/Users/simon/GIT/pttx/')\n",
    "\n",
    "from reconstruct_atom_rasters import *\n",
    "from reconstruction_classes import *\n",
    "from raster_reconstruction_classes import *\n",
    "\n",
    "%matplotlib inline\n",
    "%load_ext autoreload\n",
    "%autoreload 2\n",
    "\n"
   ]
  },
  {
   "cell_type": "code",
   "execution_count": 8,
   "metadata": {},
   "outputs": [],
   "source": [
    "rotation_filename = '/Applications/GPlates-2.0.0/SampleData/FeatureCollections/Rotations/Matthews_etal_GPC_2016_410-0Ma_GK07.rot'\n",
    "static_polygon_filename = '/Applications/GPlates-2.0.0/SampleData/FeatureCollections/ContinentalPolygons/Matthews_etal_GPC_2016_ContinentalPolygons.gpmlz'\n",
    "\n",
    "M2016 = ReconstructionModel('M2016')\n",
    "M2016.add_rotation_model(rotation_filename)\n",
    "M2016.add_static_polygons(static_polygon_filename)\n"
   ]
  },
  {
   "cell_type": "code",
   "execution_count": 53,
   "metadata": {},
   "outputs": [
    {
     "name": "stdout",
     "output_type": "stream",
     "text": [
      "10\n",
      "Reconstruct static polygons...\n",
      "Find static polygons...\n",
      "Group by polygons...\n",
      "Reverse reconstruct points...\n",
      "Sample present-day grid...\n",
      "122174\n"
     ]
    }
   ],
   "source": [
    "grid_sampling=0.5\n",
    "plotting = False\n",
    "\n",
    "raster_file = '/Users/simon/Data/GMTdata/hawaii2017/earth_relief_10m.grd'\n",
    "ptopo = GplatesRaster(raster_file)\n",
    "\n",
    "time_step = 10\n",
    "reconstruction_times = np.arange(10,11,10)\n",
    "\n",
    "for reconstruction_time in reconstruction_times:\n",
    "    \n",
    "    print reconstruction_time\n",
    "    \n",
    "    from_time = 0.\n",
    "    to_time = reconstruction_time\n",
    "\n",
    "    (reconstructed_point_lons,\n",
    "     reconstructed_point_lats,\n",
    "     reconstructed_point_zvals) = reconstruct_raster(ptopo, \n",
    "                                                     M2016.static_polygons, \n",
    "                                                     M2016.rotation_model,\n",
    "                                                     from_time, to_time, \n",
    "                                                     grid_sampling=grid_sampling)\n",
    "\n",
    "    if plotting:\n",
    "        plt.figure(figsize=(20,9))\n",
    "        plt.scatter(reconstructed_point_lons,reconstructed_point_lats,\n",
    "                    c=reconstructed_point_zvals,s=6,vmin=0,vmax=5000)\n",
    "        plt.colorbar()\n",
    "        #plt.savefig('./images/UnreconstructedPaleoDEM_%sMa.png' % reconstruction_time)\n",
    "        plt.show()\n",
    "        plt.close()\n",
    "        \n",
    "    else:\n",
    "        print len(reconstructed_point_lons)\n",
    "        \n"
   ]
  },
  {
   "cell_type": "code",
   "execution_count": 55,
   "metadata": {},
   "outputs": [],
   "source": [
    "(grid_longitudes,\n",
    " grid_latitudes) = np.meshgrid(np.arange(-180.,180.0001,grid_sampling), \n",
    "                               np.arange(-90.,90.0001,grid_sampling)) \n",
    "\n",
    "\n",
    "from scipy.interpolate.interpnd import _ndim_coords_from_arrays\n",
    "from scipy.spatial import cKDTree\n",
    "\n",
    "def xyz2grd(point_lons,point_lats,point_zvals,grid_lons,grid_lats):\n",
    "# https://stackoverflow.com/questions/30655749/how-to-set-a-maximum-distance-between-points-for-interpolation-when-using-scipy\n",
    "\n",
    "    grid_sampling = np.abs(grid_lats[1]-grid_lats[0])\n",
    "    xy = np.vstack((point_lons, point_lats)).T\n",
    "\n",
    "    # Construct kd-tree, functionality copied from scipy.interpolate\n",
    "    tree = cKDTree(xy)\n",
    "    xi = _ndim_coords_from_arrays((grid_lons, grid_lats), ndim=xy.shape[1])\n",
    "    dists, indexes = tree.query(xi)\n",
    "\n",
    "    grid_interp = griddata(xy, point_zvals, \n",
    "                           (grid_lons, grid_lats), \n",
    "                           method='nearest')\n",
    "\n",
    "    # Copy original result but mask missing values with NaNs\n",
    "    result = grid_interp[:]\n",
    "    result[dists > grid_sampling/2.] = np.nan\n",
    "    \n",
    "    return result\n",
    "\n",
    "def WriteCDFGrid(filename,x,y,z):\n",
    "    ds = xr.DataArray(z, coords=[('y',y), ('x',x)], name='z')\n",
    "    ds.to_netcdf(filename, format='NETCDF4')\n",
    "    \n",
    "    \n",
    "res = xyz2grd(reconstructed_point_lons,reconstructed_point_lats,reconstructed_point_zvals,\n",
    "              grid_longitudes,grid_latitudes)\n",
    "plt.imshow(res,origin='lower')\n"
   ]
  },
  {
   "cell_type": "code",
   "execution_count": null,
   "metadata": {},
   "outputs": [],
   "source": []
  }
 ],
 "metadata": {
  "kernelspec": {
   "display_name": "Python [conda env:oldmate]",
   "language": "python",
   "name": "conda-env-oldmate-py"
  },
  "language_info": {
   "codemirror_mode": {
    "name": "ipython",
    "version": 2
   },
   "file_extension": ".py",
   "mimetype": "text/x-python",
   "name": "python",
   "nbconvert_exporter": "python",
   "pygments_lexer": "ipython2",
   "version": "2.7.15"
  }
 },
 "nbformat": 4,
 "nbformat_minor": 4
}
