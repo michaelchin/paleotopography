{
 "cells": [
  {
   "cell_type": "code",
   "execution_count": 3,
   "metadata": {},
   "outputs": [],
   "source": [
    "import pygplates\n",
    "\n",
    "orogen_polygons_file = '../data/CondieOrogens.gpml'\n",
    "\n",
    "active_orogen_polygons = pygplates.FeatureCollection(orogen_polygons_file)\n",
    "\n",
    "inactive_orogen_polygons = []\n",
    "\n",
    "for active_orogen_polygon in active_orogen_polygons:\n",
    "    \n",
    "    inactive_orogen_polygon = active_orogen_polygon.clone()\n",
    "    \n",
    "    inactive_orogen_polygon.set_valid_time(active_orogen_polygon.get_valid_time()[1],\n",
    "                                           pygplates.GeoTimeInstant.create_distant_future())\n",
    "    \n",
    "    inactive_orogen_polygons.append(inactive_orogen_polygon)\n",
    "\n",
    "pygplates.FeatureCollection(inactive_orogen_polygons).write('../data/CondieOrogensInactive.gpml')\n",
    "\n"
   ]
  },
  {
   "cell_type": "code",
   "execution_count": null,
   "metadata": {},
   "outputs": [],
   "source": []
  }
 ],
 "metadata": {
  "kernelspec": {
   "display_name": "",
   "name": ""
  },
  "language_info": {
   "codemirror_mode": {
    "name": "ipython",
    "version": 2
   },
   "file_extension": ".py",
   "mimetype": "text/x-python",
   "name": "python",
   "nbconvert_exporter": "python",
   "pygments_lexer": "ipython2",
   "version": "2.7.11"
  }
 },
 "nbformat": 4,
 "nbformat_minor": 2
}
