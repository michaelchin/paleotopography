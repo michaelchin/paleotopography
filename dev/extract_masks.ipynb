{
 "cells": [
  {
   "cell_type": "code",
   "execution_count": 3,
   "metadata": {},
   "outputs": [],
   "source": [
    "import glob\n",
    "from ptt.utils.call_system_command import call_system_command\n",
    "\n",
    "file_list = glob.glob('/Users/Simon/Data/GPlates/PublishedModels/Scotese_PaleoAtlas/PaleoDEMS_netcdf/*.nc')\n",
    "\n",
    "time_list = []\n",
    "for file_name in file_list:\n",
    "    \n",
    "    time_string = file_name.split('_')[-2][:-2]\n",
    "\n",
    "    call_system_command(['gmt',\n",
    "                         'grdcontour',\n",
    "                         file_name,\n",
    "                         '-C10000',\n",
    "                         '-Dcontour_%c.txt',\n",
    "                         '-V'])\n",
    "    \n",
    "    call_system_command(['gmt',\n",
    "                         'grdmath',\n",
    "                         'contour_C.txt',\n",
    "                         'INSIDE',\n",
    "                         '-R%s' % file_name,\n",
    "                         '=',\n",
    "                         './landmasks/landmask_%sMa.nc' % time_string])\n",
    "    \n",
    "    call_system_command(['gmt',\n",
    "                         'grdmath',\n",
    "                         'contour_C.txt',\n",
    "                         'LDIST',\n",
    "                         '-R%s' % file_name,\n",
    "                         '=',\n",
    "                         './landmasks/land_dist_%sMa.nc' % time_string])\n",
    "    "
   ]
  },
  {
   "cell_type": "code",
   "execution_count": null,
   "metadata": {},
   "outputs": [],
   "source": []
  }
 ],
 "metadata": {
  "kernelspec": {
   "display_name": "Python [conda env:oldmate]",
   "language": "python",
   "name": "conda-env-oldmate-py"
  },
  "language_info": {
   "codemirror_mode": {
    "name": "ipython",
    "version": 2
   },
   "file_extension": ".py",
   "mimetype": "text/x-python",
   "name": "python",
   "nbconvert_exporter": "python",
   "pygments_lexer": "ipython2",
   "version": "2.7.15"
  }
 },
 "nbformat": 4,
 "nbformat_minor": 4
}
